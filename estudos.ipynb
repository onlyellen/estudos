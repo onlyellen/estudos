{
  "nbformat": 4,
  "nbformat_minor": 0,
  "metadata": {
    "colab": {
      "provenance": [],
      "authorship_tag": "ABX9TyMMza9a1IYxOjy1Ptbp/DTY",
      "include_colab_link": true
    },
    "kernelspec": {
      "name": "python3",
      "display_name": "Python 3"
    },
    "language_info": {
      "name": "python"
    }
  },
  "cells": [
    {
      "cell_type": "markdown",
      "metadata": {
        "id": "view-in-github",
        "colab_type": "text"
      },
      "source": [
        "<a href=\"https://colab.research.google.com/github/onlyellen/estudos/blob/main/estudos.ipynb\" target=\"_parent\"><img src=\"https://colab.research.google.com/assets/colab-badge.svg\" alt=\"Open In Colab\"/></a>"
      ]
    },
    {
      "cell_type": "markdown",
      "source": [
        "Tipos de Dados"
      ],
      "metadata": {
        "id": "H8q4AoIAWByg"
      }
    },
    {
      "cell_type": "code",
      "source": [
        "# Integer\n",
        "my_integer = 10"
      ],
      "metadata": {
        "id": "ayp7UgQqWkh_"
      },
      "execution_count": 3,
      "outputs": []
    },
    {
      "cell_type": "code",
      "source": [
        "# Float\n",
        "my_float = 3.14"
      ],
      "metadata": {
        "id": "ijvQ3XZ6Wo_T"
      },
      "execution_count": 4,
      "outputs": []
    },
    {
      "cell_type": "code",
      "source": [
        "def soma(a, b):\n",
        "  return a + b\n",
        "\n",
        "soma(1, 1.5)"
      ],
      "metadata": {
        "colab": {
          "base_uri": "https://localhost:8080/"
        },
        "id": "7AOHkEYMWqRm",
        "outputId": "bc2fa1d3-ded0-4989-e869-206714502328"
      },
      "execution_count": 6,
      "outputs": [
        {
          "output_type": "execute_result",
          "data": {
            "text/plain": [
              "2.5"
            ]
          },
          "metadata": {},
          "execution_count": 6
        }
      ]
    },
    {
      "cell_type": "markdown",
      "source": [
        "Strings"
      ],
      "metadata": {
        "id": "e3eX2QxdXOfA"
      }
    },
    {
      "cell_type": "code",
      "source": [
        "# String\n",
        "my_string = \"Hello, World!\""
      ],
      "metadata": {
        "id": "RHaH8XnsXJZ2"
      },
      "execution_count": 7,
      "outputs": []
    },
    {
      "cell_type": "code",
      "source": [
        "my_string[0]\n",
        "\n",
        "19 * \"Ellen\" # EllenEllenEllenEllenEllenEllenEllenEllenEllenEllenEllenEllenEllenEllenEllenEllenEllenEllenEllen\n",
        "\"19\" + \"Ellen\" # 19Ellen"
      ],
      "metadata": {
        "colab": {
          "base_uri": "https://localhost:8080/",
          "height": 35
        },
        "id": "DcdeEdOHXNk2",
        "outputId": "138dc8fa-9194-46c8-d4c2-557bbb0df35e"
      },
      "execution_count": 24,
      "outputs": [
        {
          "output_type": "execute_result",
          "data": {
            "text/plain": [
              "'19Ellen'"
            ],
            "application/vnd.google.colaboratory.intrinsic+json": {
              "type": "string"
            }
          },
          "metadata": {},
          "execution_count": 24
        }
      ]
    },
    {
      "cell_type": "markdown",
      "source": [
        "Lista"
      ],
      "metadata": {
        "id": "NJN5GJTiYYg-"
      }
    },
    {
      "cell_type": "code",
      "source": [
        "# List\n",
        "lista = [1, 2, 3, 4, 5]"
      ],
      "metadata": {
        "id": "6ag5Oyy5YYQM"
      },
      "execution_count": 25,
      "outputs": []
    },
    {
      "cell_type": "code",
      "source": [
        "lista[0] # 1\n",
        "lista[0] + lista[2] # 4\n",
        "lista[-1] # 5\n",
        "lista[-2] # 4"
      ],
      "metadata": {
        "colab": {
          "base_uri": "https://localhost:8080/"
        },
        "id": "VJv8btT4YfHo",
        "outputId": "3b430e6d-cddb-4f40-cd2f-4d8ade836128"
      },
      "execution_count": 33,
      "outputs": [
        {
          "output_type": "execute_result",
          "data": {
            "text/plain": [
              "4"
            ]
          },
          "metadata": {},
          "execution_count": 33
        }
      ]
    },
    {
      "cell_type": "markdown",
      "source": [
        "Dict"
      ],
      "metadata": {
        "id": "P0hxtwH7Y8aC"
      }
    },
    {
      "cell_type": "code",
      "source": [
        "# Dictionary\n",
        "dici = {'name': 'Ellen',\n",
        "        'age': 19,\n",
        "        'city': 'New York'}"
      ],
      "metadata": {
        "id": "rGMagozjY_vk"
      },
      "execution_count": 36,
      "outputs": []
    },
    {
      "cell_type": "code",
      "source": [
        "dici['name'] # Ellen\n",
        "dici['Cargo'] = 'Estudante'\n",
        "dici['Cargo'] # Estudante"
      ],
      "metadata": {
        "colab": {
          "base_uri": "https://localhost:8080/",
          "height": 35
        },
        "id": "zN5fx1FpZEPw",
        "outputId": "4a1ecaae-23ed-4705-81f6-ed737c61c885"
      },
      "execution_count": 39,
      "outputs": [
        {
          "output_type": "execute_result",
          "data": {
            "text/plain": [
              "'Estudante'"
            ],
            "application/vnd.google.colaboratory.intrinsic+json": {
              "type": "string"
            }
          },
          "metadata": {},
          "execution_count": 39
        }
      ]
    },
    {
      "cell_type": "markdown",
      "source": [
        "Tupla"
      ],
      "metadata": {
        "id": "0kPHu1wtZydY"
      }
    },
    {
      "cell_type": "code",
      "source": [
        "# Tuple\n",
        "my_tuple = (1, 2, 3, 4, 5)"
      ],
      "metadata": {
        "id": "IHwTzisyZ0lO"
      },
      "execution_count": 40,
      "outputs": []
    },
    {
      "cell_type": "code",
      "source": [
        "my_tuple[0] # 1\n",
        "# my_tuple[0] = 2 # Error"
      ],
      "metadata": {
        "colab": {
          "base_uri": "https://localhost:8080/"
        },
        "id": "q4tM56ZEZ1gW",
        "outputId": "8440e1ee-5c44-4740-b628-ab0e0736d847"
      },
      "execution_count": 43,
      "outputs": [
        {
          "output_type": "execute_result",
          "data": {
            "text/plain": [
              "1"
            ]
          },
          "metadata": {},
          "execution_count": 43
        }
      ]
    },
    {
      "cell_type": "markdown",
      "source": [
        "Boolean\n"
      ],
      "metadata": {
        "id": "P-u4MQAEaJso"
      }
    },
    {
      "cell_type": "code",
      "source": [
        "1 > 3"
      ],
      "metadata": {
        "colab": {
          "base_uri": "https://localhost:8080/"
        },
        "id": "Sbssxo1lSWv5",
        "outputId": "e57018c8-34e1-44a7-912b-442985cb5822"
      },
      "execution_count": 44,
      "outputs": [
        {
          "output_type": "execute_result",
          "data": {
            "text/plain": [
              "False"
            ]
          },
          "metadata": {},
          "execution_count": 44
        }
      ]
    },
    {
      "cell_type": "code",
      "source": [
        "2 > 1"
      ],
      "metadata": {
        "colab": {
          "base_uri": "https://localhost:8080/"
        },
        "id": "4VuLfAwtaSKD",
        "outputId": "b9cf0bc7-8faa-425c-ac1b-fce065ded8d9"
      },
      "execution_count": 45,
      "outputs": [
        {
          "output_type": "execute_result",
          "data": {
            "text/plain": [
              "True"
            ]
          },
          "metadata": {},
          "execution_count": 45
        }
      ]
    },
    {
      "cell_type": "code",
      "source": [
        "not 1 > 3"
      ],
      "metadata": {
        "colab": {
          "base_uri": "https://localhost:8080/"
        },
        "id": "UBLqSZSfXv3d",
        "outputId": "c61eb97f-a55c-480b-eccb-20f0bb468ac4"
      },
      "execution_count": 48,
      "outputs": [
        {
          "output_type": "execute_result",
          "data": {
            "text/plain": [
              "True"
            ]
          },
          "metadata": {},
          "execution_count": 48
        }
      ]
    },
    {
      "cell_type": "code",
      "source": [
        "def retornar_bool(a, b):\n",
        "  return b > a\n",
        "\n",
        "retornar_bool(1, 4)"
      ],
      "metadata": {
        "colab": {
          "base_uri": "https://localhost:8080/"
        },
        "id": "YAJUb79Raj-0",
        "outputId": "a3262f2a-8e8a-46e0-e114-30857dba599a"
      },
      "execution_count": 50,
      "outputs": [
        {
          "output_type": "execute_result",
          "data": {
            "text/plain": [
              "True"
            ]
          },
          "metadata": {},
          "execution_count": 50
        }
      ]
    },
    {
      "cell_type": "markdown",
      "source": [
        "Operadores"
      ],
      "metadata": {
        "id": "B388xRQlbSuE"
      }
    },
    {
      "cell_type": "code",
      "source": [
        "x = 10\n",
        "y = 3"
      ],
      "metadata": {
        "id": "RlbNMzdvbUW7"
      },
      "execution_count": 51,
      "outputs": []
    },
    {
      "cell_type": "code",
      "source": [
        "x + y"
      ],
      "metadata": {
        "colab": {
          "base_uri": "https://localhost:8080/"
        },
        "id": "w9HfKWFZbXN-",
        "outputId": "786f7042-99e1-4f89-a2ef-599520828342"
      },
      "execution_count": 52,
      "outputs": [
        {
          "output_type": "execute_result",
          "data": {
            "text/plain": [
              "13"
            ]
          },
          "metadata": {},
          "execution_count": 52
        }
      ]
    },
    {
      "cell_type": "code",
      "source": [
        "x - y"
      ],
      "metadata": {
        "colab": {
          "base_uri": "https://localhost:8080/"
        },
        "id": "DX2WS9sUbaK3",
        "outputId": "a2fffabb-02fe-4016-a7b1-4070139b42b3"
      },
      "execution_count": 53,
      "outputs": [
        {
          "output_type": "execute_result",
          "data": {
            "text/plain": [
              "7"
            ]
          },
          "metadata": {},
          "execution_count": 53
        }
      ]
    },
    {
      "cell_type": "code",
      "source": [
        "x * y"
      ],
      "metadata": {
        "colab": {
          "base_uri": "https://localhost:8080/"
        },
        "id": "m_ZXsvlVbafg",
        "outputId": "5c0b7d92-2cc6-4978-c350-703b33f42c53"
      },
      "execution_count": 54,
      "outputs": [
        {
          "output_type": "execute_result",
          "data": {
            "text/plain": [
              "30"
            ]
          },
          "metadata": {},
          "execution_count": 54
        }
      ]
    },
    {
      "cell_type": "code",
      "source": [
        "x / y # Divisão Float"
      ],
      "metadata": {
        "colab": {
          "base_uri": "https://localhost:8080/"
        },
        "id": "_k1fDjbQbay9",
        "outputId": "ba83b387-9cac-4c2a-c738-e5630735af79"
      },
      "execution_count": 55,
      "outputs": [
        {
          "output_type": "execute_result",
          "data": {
            "text/plain": [
              "3.3333333333333335"
            ]
          },
          "metadata": {},
          "execution_count": 55
        }
      ]
    },
    {
      "cell_type": "code",
      "source": [
        "x // y # Divisão inteira"
      ],
      "metadata": {
        "colab": {
          "base_uri": "https://localhost:8080/"
        },
        "id": "Rp1AeR_8bbDe",
        "outputId": "c96d17b1-a735-4370-bd63-96759235e4d4"
      },
      "execution_count": 56,
      "outputs": [
        {
          "output_type": "execute_result",
          "data": {
            "text/plain": [
              "3"
            ]
          },
          "metadata": {},
          "execution_count": 56
        }
      ]
    },
    {
      "cell_type": "code",
      "source": [
        "10 % 2"
      ],
      "metadata": {
        "colab": {
          "base_uri": "https://localhost:8080/"
        },
        "id": "5ZNk46MIbj3h",
        "outputId": "fd768fd4-26e2-4a0d-85c4-42d50694266f"
      },
      "execution_count": 60,
      "outputs": [
        {
          "output_type": "execute_result",
          "data": {
            "text/plain": [
              "0"
            ]
          },
          "metadata": {},
          "execution_count": 60
        }
      ]
    },
    {
      "cell_type": "code",
      "source": [
        "10 % 4"
      ],
      "metadata": {
        "colab": {
          "base_uri": "https://localhost:8080/"
        },
        "id": "yVWX4JBQcxcF",
        "outputId": "39bc2dc0-2a05-4ab5-8830-cccf01c10e50"
      },
      "execution_count": 61,
      "outputs": [
        {
          "output_type": "execute_result",
          "data": {
            "text/plain": [
              "2"
            ]
          },
          "metadata": {},
          "execution_count": 61
        }
      ]
    },
    {
      "cell_type": "code",
      "source": [
        "int(1.1)"
      ],
      "metadata": {
        "colab": {
          "base_uri": "https://localhost:8080/"
        },
        "id": "J-sSjFrBcHxe",
        "outputId": "c68b43ac-c8d8-411c-e0df-6e20bfcad4a4"
      },
      "execution_count": 62,
      "outputs": [
        {
          "output_type": "execute_result",
          "data": {
            "text/plain": [
              "1"
            ]
          },
          "metadata": {},
          "execution_count": 62
        }
      ]
    },
    {
      "cell_type": "code",
      "source": [
        "int(1.9)"
      ],
      "metadata": {
        "colab": {
          "base_uri": "https://localhost:8080/"
        },
        "id": "qhRA95nqdBUv",
        "outputId": "75c19236-41a5-4df4-fd5e-c5bb0717dd45"
      },
      "execution_count": 63,
      "outputs": [
        {
          "output_type": "execute_result",
          "data": {
            "text/plain": [
              "1"
            ]
          },
          "metadata": {},
          "execution_count": 63
        }
      ]
    },
    {
      "cell_type": "code",
      "source": [
        "float(3)"
      ],
      "metadata": {
        "colab": {
          "base_uri": "https://localhost:8080/"
        },
        "id": "KLZIBGNzdFhF",
        "outputId": "f1e15c19-30ad-4695-c8b6-74e7e1b1726f"
      },
      "execution_count": 67,
      "outputs": [
        {
          "output_type": "execute_result",
          "data": {
            "text/plain": [
              "3.0"
            ]
          },
          "metadata": {},
          "execution_count": 67
        }
      ]
    },
    {
      "cell_type": "code",
      "source": [
        "float(3.6)"
      ],
      "metadata": {
        "colab": {
          "base_uri": "https://localhost:8080/"
        },
        "id": "i7tcd9VtdP7D",
        "outputId": "11fb8f0b-3480-47ac-983e-46f4ddb64b5d"
      },
      "execution_count": 68,
      "outputs": [
        {
          "output_type": "execute_result",
          "data": {
            "text/plain": [
              "3.6"
            ]
          },
          "metadata": {},
          "execution_count": 68
        }
      ]
    },
    {
      "cell_type": "code",
      "source": [
        "pow(2, 3)"
      ],
      "metadata": {
        "colab": {
          "base_uri": "https://localhost:8080/"
        },
        "id": "RKqGeQMtdXfW",
        "outputId": "2222722a-fdee-43bb-c0ac-e448742f968a"
      },
      "execution_count": 69,
      "outputs": [
        {
          "output_type": "execute_result",
          "data": {
            "text/plain": [
              "8"
            ]
          },
          "metadata": {},
          "execution_count": 69
        }
      ]
    },
    {
      "cell_type": "code",
      "source": [
        "2 ** 3"
      ],
      "metadata": {
        "colab": {
          "base_uri": "https://localhost:8080/"
        },
        "id": "ZBqBxgR9dcxn",
        "outputId": "f5f762ef-2463-412b-897f-f3cf5d38a43e"
      },
      "execution_count": 71,
      "outputs": [
        {
          "output_type": "execute_result",
          "data": {
            "text/plain": [
              "8"
            ]
          },
          "metadata": {},
          "execution_count": 71
        }
      ]
    },
    {
      "cell_type": "markdown",
      "source": [
        "Operadores Lógicos"
      ],
      "metadata": {
        "id": "_oVGiHX1eooC"
      }
    },
    {
      "cell_type": "code",
      "source": [
        "# and, or, not"
      ],
      "metadata": {
        "id": "g_7m2DiTerlk"
      },
      "execution_count": 72,
      "outputs": []
    },
    {
      "cell_type": "code",
      "source": [
        "True and False"
      ],
      "metadata": {
        "colab": {
          "base_uri": "https://localhost:8080/"
        },
        "id": "2mfTedEMgugt",
        "outputId": "a781a36e-414b-4d18-d268-3936f45f1075"
      },
      "execution_count": 87,
      "outputs": [
        {
          "output_type": "execute_result",
          "data": {
            "text/plain": [
              "False"
            ]
          },
          "metadata": {},
          "execution_count": 87
        }
      ]
    },
    {
      "cell_type": "code",
      "source": [
        "True and True"
      ],
      "metadata": {
        "colab": {
          "base_uri": "https://localhost:8080/"
        },
        "id": "alKhmDLLg1P6",
        "outputId": "2f2e7f1d-cee2-483b-df09-f5153f61603b"
      },
      "execution_count": 88,
      "outputs": [
        {
          "output_type": "execute_result",
          "data": {
            "text/plain": [
              "True"
            ]
          },
          "metadata": {},
          "execution_count": 88
        }
      ]
    },
    {
      "cell_type": "code",
      "source": [
        "False and False"
      ],
      "metadata": {
        "colab": {
          "base_uri": "https://localhost:8080/"
        },
        "id": "ae_lg4tug-_4",
        "outputId": "c6389ec1-722c-49f7-f177-e968814941a2"
      },
      "execution_count": 90,
      "outputs": [
        {
          "output_type": "execute_result",
          "data": {
            "text/plain": [
              "False"
            ]
          },
          "metadata": {},
          "execution_count": 90
        }
      ]
    },
    {
      "cell_type": "code",
      "source": [
        "False and True"
      ],
      "metadata": {
        "colab": {
          "base_uri": "https://localhost:8080/"
        },
        "id": "RPhMpbg0g6cz",
        "outputId": "f401d5be-1b19-49fa-be71-0d9fa41eae38"
      },
      "execution_count": 89,
      "outputs": [
        {
          "output_type": "execute_result",
          "data": {
            "text/plain": [
              "False"
            ]
          },
          "metadata": {},
          "execution_count": 89
        }
      ]
    },
    {
      "cell_type": "code",
      "source": [
        "True or False"
      ],
      "metadata": {
        "colab": {
          "base_uri": "https://localhost:8080/"
        },
        "id": "NiDuTOzHhgUN",
        "outputId": "0ef5f172-8cc6-4a1c-e4c2-c63f82de37af"
      },
      "execution_count": 91,
      "outputs": [
        {
          "output_type": "execute_result",
          "data": {
            "text/plain": [
              "True"
            ]
          },
          "metadata": {},
          "execution_count": 91
        }
      ]
    },
    {
      "cell_type": "code",
      "source": [
        "False or True"
      ],
      "metadata": {
        "colab": {
          "base_uri": "https://localhost:8080/"
        },
        "id": "i5VloIdYhkcW",
        "outputId": "5ab15ab8-959d-428a-a19a-872d20f657c5"
      },
      "execution_count": 93,
      "outputs": [
        {
          "output_type": "execute_result",
          "data": {
            "text/plain": [
              "True"
            ]
          },
          "metadata": {},
          "execution_count": 93
        }
      ]
    },
    {
      "cell_type": "code",
      "source": [
        "cara_de_velho = True\n",
        "idade = 15\n",
        "\n",
        "if (idade > 19) and cara_de_velho is True:\n",
        "  print(\"Pode beber!\")\n",
        "else:\n",
        "  print(\"Não pode!\")"
      ],
      "metadata": {
        "colab": {
          "base_uri": "https://localhost:8080/"
        },
        "id": "8jYWCU9JiWwH",
        "outputId": "c125113a-a504-4662-fe5a-bca905fa6391"
      },
      "execution_count": 97,
      "outputs": [
        {
          "output_type": "stream",
          "name": "stdout",
          "text": [
            "Não pode!\n"
          ]
        }
      ]
    },
    {
      "cell_type": "code",
      "source": [
        "cara_de_velho = True\n",
        "idade = 15\n",
        "\n",
        "if (idade > 19) or cara_de_velho is True:\n",
        "  print(\"Pode beber!\")"
      ],
      "metadata": {
        "colab": {
          "base_uri": "https://localhost:8080/"
        },
        "id": "g--Rp8eYh6nN",
        "outputId": "3aee3024-b714-4b45-bf66-078670d8be6a"
      },
      "execution_count": 94,
      "outputs": [
        {
          "output_type": "stream",
          "name": "stdout",
          "text": [
            "Pode beber!\n"
          ]
        }
      ]
    },
    {
      "cell_type": "code",
      "source": [
        "not 1 > 10 # Inverte o booleno"
      ],
      "metadata": {
        "colab": {
          "base_uri": "https://localhost:8080/"
        },
        "id": "ac31M4ccewsH",
        "outputId": "2f60f395-26d7-4bbe-acea-677324589b28"
      },
      "execution_count": 99,
      "outputs": [
        {
          "output_type": "execute_result",
          "data": {
            "text/plain": [
              "True"
            ]
          },
          "metadata": {},
          "execution_count": 99
        }
      ]
    },
    {
      "cell_type": "code",
      "source": [
        "10 < 2"
      ],
      "metadata": {
        "colab": {
          "base_uri": "https://localhost:8080/"
        },
        "id": "g0jEjOSWi3vn",
        "outputId": "a1d86610-fcd1-4f58-e337-b3845294831f"
      },
      "execution_count": 100,
      "outputs": [
        {
          "output_type": "execute_result",
          "data": {
            "text/plain": [
              "False"
            ]
          },
          "metadata": {},
          "execution_count": 100
        }
      ]
    },
    {
      "cell_type": "code",
      "source": [
        "10 <= 2"
      ],
      "metadata": {
        "colab": {
          "base_uri": "https://localhost:8080/"
        },
        "id": "-i3X_LKtj2I5",
        "outputId": "79951fff-e71d-4658-cc96-94e53ce1718e"
      },
      "execution_count": 101,
      "outputs": [
        {
          "output_type": "execute_result",
          "data": {
            "text/plain": [
              "False"
            ]
          },
          "metadata": {},
          "execution_count": 101
        }
      ]
    },
    {
      "cell_type": "code",
      "source": [
        "10 > 2"
      ],
      "metadata": {
        "colab": {
          "base_uri": "https://localhost:8080/"
        },
        "id": "WIQTne9Dj73k",
        "outputId": "453c028f-4946-4722-8fed-b9e56767caca"
      },
      "execution_count": 102,
      "outputs": [
        {
          "output_type": "execute_result",
          "data": {
            "text/plain": [
              "True"
            ]
          },
          "metadata": {},
          "execution_count": 102
        }
      ]
    },
    {
      "cell_type": "code",
      "source": [
        "10 >= 10"
      ],
      "metadata": {
        "colab": {
          "base_uri": "https://localhost:8080/"
        },
        "id": "fYk3_QqtkC4a",
        "outputId": "ad3891a1-2466-4bdc-a81d-1bad208ce4e3"
      },
      "execution_count": 105,
      "outputs": [
        {
          "output_type": "execute_result",
          "data": {
            "text/plain": [
              "True"
            ]
          },
          "metadata": {},
          "execution_count": 105
        }
      ]
    },
    {
      "cell_type": "code",
      "source": [
        "10 == 9"
      ],
      "metadata": {
        "colab": {
          "base_uri": "https://localhost:8080/"
        },
        "id": "qpcQYHWzkIa6",
        "outputId": "bddd6167-0835-4635-ec13-861f0faea498"
      },
      "execution_count": 106,
      "outputs": [
        {
          "output_type": "execute_result",
          "data": {
            "text/plain": [
              "False"
            ]
          },
          "metadata": {},
          "execution_count": 106
        }
      ]
    },
    {
      "cell_type": "code",
      "source": [
        "10 != 10"
      ],
      "metadata": {
        "colab": {
          "base_uri": "https://localhost:8080/"
        },
        "id": "Ox1pwtFmkLEi",
        "outputId": "15b0cc44-94cd-488c-be71-a09c31316342"
      },
      "execution_count": 115,
      "outputs": [
        {
          "output_type": "execute_result",
          "data": {
            "text/plain": [
              "False"
            ]
          },
          "metadata": {},
          "execution_count": 115
        }
      ]
    },
    {
      "cell_type": "code",
      "source": [
        "10 is 10"
      ],
      "metadata": {
        "colab": {
          "base_uri": "https://localhost:8080/"
        },
        "id": "8CON3wfjkwEh",
        "outputId": "8f585e37-d81a-41d9-c68c-19c2f8ddb716"
      },
      "execution_count": 116,
      "outputs": [
        {
          "output_type": "stream",
          "name": "stderr",
          "text": [
            "<>:1: SyntaxWarning: \"is\" with a literal. Did you mean \"==\"?\n",
            "<>:1: SyntaxWarning: \"is\" with a literal. Did you mean \"==\"?\n",
            "<ipython-input-116-364032124ae6>:1: SyntaxWarning: \"is\" with a literal. Did you mean \"==\"?\n",
            "  10 is 10\n"
          ]
        },
        {
          "output_type": "execute_result",
          "data": {
            "text/plain": [
              "True"
            ]
          },
          "metadata": {},
          "execution_count": 116
        }
      ]
    },
    {
      "cell_type": "code",
      "source": [
        "10 is not 9"
      ],
      "metadata": {
        "colab": {
          "base_uri": "https://localhost:8080/"
        },
        "id": "WQhdfxDukzSE",
        "outputId": "cff6f3f5-27c7-4101-91dc-dcb16f01c50e"
      },
      "execution_count": 118,
      "outputs": [
        {
          "output_type": "stream",
          "name": "stderr",
          "text": [
            "<>:1: SyntaxWarning: \"is not\" with a literal. Did you mean \"!=\"?\n",
            "<>:1: SyntaxWarning: \"is not\" with a literal. Did you mean \"!=\"?\n",
            "<ipython-input-118-681399060e81>:1: SyntaxWarning: \"is not\" with a literal. Did you mean \"!=\"?\n",
            "  10 is not 9\n"
          ]
        },
        {
          "output_type": "execute_result",
          "data": {
            "text/plain": [
              "True"
            ]
          },
          "metadata": {},
          "execution_count": 118
        }
      ]
    },
    {
      "cell_type": "code",
      "source": [
        " = 2"
      ],
      "metadata": {
        "colab": {
          "base_uri": "https://localhost:8080/",
          "height": 106
        },
        "id": "2bVPyyzZnI8D",
        "outputId": "9c81c85b-1824-4d37-820d-5bc240d52469"
      },
      "execution_count": 120,
      "outputs": [
        {
          "output_type": "error",
          "ename": "SyntaxError",
          "evalue": "cannot assign to True (<ipython-input-120-da3e5402d318>, line 1)",
          "traceback": [
            "\u001b[0;36m  File \u001b[0;32m\"<ipython-input-120-da3e5402d318>\"\u001b[0;36m, line \u001b[0;32m1\u001b[0m\n\u001b[0;31m    True = 2\u001b[0m\n\u001b[0m    ^\u001b[0m\n\u001b[0;31mSyntaxError\u001b[0m\u001b[0;31m:\u001b[0m cannot assign to True\n"
          ]
        }
      ]
    },
    {
      "cell_type": "markdown",
      "source": [
        "Funções"
      ],
      "metadata": {
        "id": "cBH8i4JsmH97"
      }
    },
    {
      "cell_type": "code",
      "source": [
        "def minha_funcao(meus_parametros):\n",
        "  pass"
      ],
      "metadata": {
        "id": "kVce3fqHmKWw"
      },
      "execution_count": 121,
      "outputs": []
    },
    {
      "cell_type": "code",
      "source": [
        "def soma(a, b): # Definição dos parametros\n",
        "  return a + b\n",
        "\n",
        "soma(1, 10) # Passar os argumentos"
      ],
      "metadata": {
        "colab": {
          "base_uri": "https://localhost:8080/"
        },
        "id": "etBSKC2JnZrk",
        "outputId": "e22062f3-3a28-4079-fae8-51d0d2b768af"
      },
      "execution_count": 122,
      "outputs": [
        {
          "output_type": "execute_result",
          "data": {
            "text/plain": [
              "11"
            ]
          },
          "metadata": {},
          "execution_count": 122
        }
      ]
    },
    {
      "cell_type": "code",
      "source": [
        "def chamar_gato(nome):\n",
        "  print(f\"Vem cá {nome}!!!\")"
      ],
      "metadata": {
        "id": "8jOEkSAbnrcL"
      },
      "execution_count": 123,
      "outputs": []
    },
    {
      "cell_type": "code",
      "source": [
        "chamar_gato('Matheus')"
      ],
      "metadata": {
        "colab": {
          "base_uri": "https://localhost:8080/"
        },
        "id": "9appwaa3plwg",
        "outputId": "bae1ef86-5936-4f65-c0d6-32d01add2a53"
      },
      "execution_count": 130,
      "outputs": [
        {
          "output_type": "stream",
          "name": "stdout",
          "text": [
            "Vem cá Matheus!!!\n"
          ]
        }
      ]
    },
    {
      "cell_type": "code",
      "source": [
        "def gato_fugiu(fugiu, nome):\n",
        "  if fugiu is True:\n",
        "    print('Meu gato fugiu!!')\n",
        "    chamar_gato(nome)\n",
        "  else:\n",
        "    print('Meu gato está aqui!')"
      ],
      "metadata": {
        "id": "Q9NIQ0JSoBqf"
      },
      "execution_count": 131,
      "outputs": []
    },
    {
      "cell_type": "code",
      "source": [
        "gato_fugiu(True, 'Bucky')"
      ],
      "metadata": {
        "colab": {
          "base_uri": "https://localhost:8080/"
        },
        "id": "x1cKhasEorfI",
        "outputId": "eb8528dc-4bad-40ed-d257-e17bbe04813e"
      },
      "execution_count": 129,
      "outputs": [
        {
          "output_type": "stream",
          "name": "stdout",
          "text": [
            "Meu gato fugiu!!\n",
            "Vem cá Bucky!!!\n"
          ]
        }
      ]
    },
    {
      "cell_type": "code",
      "source": [
        "gato_fugiu(False, 'Bucky')"
      ],
      "metadata": {
        "colab": {
          "base_uri": "https://localhost:8080/"
        },
        "id": "-Suc1Bpgqc1x",
        "outputId": "919654f9-b08f-47b0-f4fb-973f75ee32c7"
      },
      "execution_count": 132,
      "outputs": [
        {
          "output_type": "stream",
          "name": "stdout",
          "text": [
            "Meu gato está aqui!\n"
          ]
        }
      ]
    },
    {
      "cell_type": "code",
      "source": [
        "a = 12\n",
        "\n",
        "if a > 11:\n",
        "  print('a maior que 11')\n",
        "elif a == 11:\n",
        "  print('a igual a 11')\n",
        "else:\n",
        "  print('a menor que 11')"
      ],
      "metadata": {
        "colab": {
          "base_uri": "https://localhost:8080/"
        },
        "id": "vLmyi2aQrCTd",
        "outputId": "bbdab98d-ec45-4f49-be91-b678251357dd"
      },
      "execution_count": 135,
      "outputs": [
        {
          "output_type": "stream",
          "name": "stdout",
          "text": [
            "a maior que 11\n"
          ]
        }
      ]
    },
    {
      "cell_type": "code",
      "source": [],
      "metadata": {
        "id": "EqGbNAfTropv"
      },
      "execution_count": null,
      "outputs": []
    },
    {
      "cell_type": "markdown",
      "source": [
        "Laço de repetição"
      ],
      "metadata": {
        "id": "Rzbr0a8qrybm"
      }
    },
    {
      "cell_type": "code",
      "source": [
        "contador = 0\n",
        "\n",
        "while contador < 10:\n",
        "  print(contador)\n",
        "  contador += 1"
      ],
      "metadata": {
        "colab": {
          "base_uri": "https://localhost:8080/"
        },
        "id": "1pCB3i4kr0Ww",
        "outputId": "0e4af9d3-d91b-4f9a-aa9d-28f71cfc6bc8"
      },
      "execution_count": 136,
      "outputs": [
        {
          "output_type": "stream",
          "name": "stdout",
          "text": [
            "0\n",
            "1\n",
            "2\n",
            "3\n",
            "4\n",
            "5\n",
            "6\n",
            "7\n",
            "8\n",
            "9\n"
          ]
        }
      ]
    },
    {
      "cell_type": "code",
      "source": [
        "for numero in range(1, 11):\n",
        "  print(numero)"
      ],
      "metadata": {
        "colab": {
          "base_uri": "https://localhost:8080/"
        },
        "id": "V7G7gPqjs-Of",
        "outputId": "93ea297a-3965-472f-c008-559a030b45ed"
      },
      "execution_count": 140,
      "outputs": [
        {
          "output_type": "stream",
          "name": "stdout",
          "text": [
            "1\n",
            "2\n",
            "3\n",
            "4\n",
            "5\n",
            "6\n",
            "7\n",
            "8\n",
            "9\n",
            "10\n"
          ]
        }
      ]
    },
    {
      "cell_type": "code",
      "source": [
        "comidas = ['banana', 'laranja', 'coco']\n",
        "\n",
        "for comida in comidas:\n",
        "  print(comida)"
      ],
      "metadata": {
        "colab": {
          "base_uri": "https://localhost:8080/"
        },
        "id": "kewXniSfvE5h",
        "outputId": "2b6c244b-c7c5-4f74-9d93-c0d8c989f8d6"
      },
      "execution_count": 142,
      "outputs": [
        {
          "output_type": "stream",
          "name": "stdout",
          "text": [
            "banana\n",
            "laranja\n",
            "coco\n"
          ]
        }
      ]
    },
    {
      "cell_type": "code",
      "source": [
        "comidas = ['banana', 'laranja', 'coco']\n",
        "len(comidas)"
      ],
      "metadata": {
        "colab": {
          "base_uri": "https://localhost:8080/"
        },
        "id": "9fDwYfq9vi-s",
        "outputId": "47686db0-e96c-47b2-f402-7f7e45ec098e"
      },
      "execution_count": 144,
      "outputs": [
        {
          "output_type": "execute_result",
          "data": {
            "text/plain": [
              "3"
            ]
          },
          "metadata": {},
          "execution_count": 144
        }
      ]
    },
    {
      "cell_type": "code",
      "source": [
        "comidas = ['banana', 'laranja', 'coco']\n",
        "\n",
        "for i in range(len(comidas)):\n",
        "  for letra in comidas[i]:\n",
        "    print(letra)\n"
      ],
      "metadata": {
        "colab": {
          "base_uri": "https://localhost:8080/"
        },
        "id": "KLVQqPnBvWDj",
        "outputId": "ff8bb5de-c084-4a3b-fb4f-eb5cdefe58bd"
      },
      "execution_count": 147,
      "outputs": [
        {
          "output_type": "stream",
          "name": "stdout",
          "text": [
            "b\n",
            "a\n",
            "n\n",
            "a\n",
            "n\n",
            "a\n",
            "l\n",
            "a\n",
            "r\n",
            "a\n",
            "n\n",
            "j\n",
            "a\n",
            "c\n",
            "o\n",
            "c\n",
            "o\n"
          ]
        }
      ]
    },
    {
      "cell_type": "code",
      "source": [
        "for letra in 'Ellen':\n",
        "  print(letra)"
      ],
      "metadata": {
        "colab": {
          "base_uri": "https://localhost:8080/"
        },
        "id": "uEry1EjotP3J",
        "outputId": "6be13d93-7d85-4681-8f5a-a4502884ddd1"
      },
      "execution_count": 141,
      "outputs": [
        {
          "output_type": "stream",
          "name": "stdout",
          "text": [
            "E\n",
            "l\n",
            "l\n",
            "e\n",
            "n\n"
          ]
        }
      ]
    },
    {
      "cell_type": "code",
      "source": [
        "list(range(10))"
      ],
      "metadata": {
        "colab": {
          "base_uri": "https://localhost:8080/"
        },
        "id": "cVRQWt3VtG81",
        "outputId": "0367f958-75af-42c1-f473-e0c5c1b2665a"
      },
      "execution_count": 138,
      "outputs": [
        {
          "output_type": "execute_result",
          "data": {
            "text/plain": [
              "[0, 1, 2, 3, 4, 5, 6, 7, 8, 9]"
            ]
          },
          "metadata": {},
          "execution_count": 138
        }
      ]
    },
    {
      "cell_type": "code",
      "source": [
        "for i in range(20):\n",
        "  for x in range(20):\n",
        "    pass"
      ],
      "metadata": {
        "id": "bFkdQp5YtKtD"
      },
      "execution_count": null,
      "outputs": []
    }
  ]
}